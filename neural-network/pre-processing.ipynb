{
 "cells": [
  {
   "cell_type": "markdown",
   "metadata": {},
   "source": [
    "# Importando Dependências"
   ]
  },
  {
   "cell_type": "code",
   "execution_count": 1,
   "metadata": {},
   "outputs": [
    {
     "name": "stderr",
     "output_type": "stream",
     "text": [
      "2024-06-16 19:47:58.996520: I external/local_tsl/tsl/cuda/cudart_stub.cc:32] Could not find cuda drivers on your machine, GPU will not be used.\n",
      "2024-06-16 19:47:59.004043: I external/local_tsl/tsl/cuda/cudart_stub.cc:32] Could not find cuda drivers on your machine, GPU will not be used.\n",
      "2024-06-16 19:47:59.108246: I tensorflow/core/platform/cpu_feature_guard.cc:210] This TensorFlow binary is optimized to use available CPU instructions in performance-critical operations.\n",
      "To enable the following instructions: AVX2 FMA, in other operations, rebuild TensorFlow with the appropriate compiler flags.\n",
      "2024-06-16 19:48:00.263260: W tensorflow/compiler/tf2tensorrt/utils/py_utils.cc:38] TF-TRT Warning: Could not find TensorRT\n"
     ]
    }
   ],
   "source": [
    "import pandas as pd\n",
    "from sklearn.preprocessing import LabelEncoder, StandardScaler\n",
    "from sklearn.model_selection import train_test_split\n",
    "from keras import models\n",
    "from keras import layers\n",
    "from keras import utils\n",
    "from keras import callbacks\n",
    "from keras import optimizers\n",
    "\n",
    "sequential = models.Sequential\n",
    "dense = layers.Dense\n",
    "to_categorical = utils.to_categorical\n",
    "\n"
   ]
  },
  {
   "cell_type": "code",
   "execution_count": 9,
   "metadata": {},
   "outputs": [
    {
     "data": {
      "text/plain": [
       "array(['acoustic', 'afrobeat', 'alt-rock', 'alternative', 'ambient',\n",
       "       'anime', 'black-metal', 'bluegrass', 'blues', 'brazil',\n",
       "       'breakbeat', 'british', 'cantopop', 'chicago-house', 'children',\n",
       "       'chill', 'classical', 'club', 'comedy', 'country', 'dance',\n",
       "       'dancehall', 'death-metal', 'deep-house', 'detroit-techno',\n",
       "       'disco', 'disney', 'drum-and-bass', 'dub', 'dubstep', 'edm',\n",
       "       'electro', 'electronic', 'emo', 'folk', 'forro', 'french', 'funk',\n",
       "       'garage', 'german', 'gospel', 'goth', 'grindcore', 'groove',\n",
       "       'grunge', 'guitar', 'happy', 'hard-rock', 'hardcore', 'hardstyle',\n",
       "       'heavy-metal', 'hip-hop', 'honky-tonk', 'house', 'idm', 'indian',\n",
       "       'indie', 'indie-pop', 'industrial', 'iranian', 'j-dance', 'j-idol',\n",
       "       'j-pop', 'j-rock', 'jazz', 'k-pop', 'kids', 'latin', 'latino',\n",
       "       'malay', 'mandopop', 'metal', 'metalcore', 'minimal-techno', 'mpb',\n",
       "       'new-age', 'opera', 'pagode', 'party', 'piano', 'pop', 'pop-film',\n",
       "       'power-pop', 'progressive-house', 'psych-rock', 'punk',\n",
       "       'punk-rock', 'r-n-b', 'reggae', 'reggaeton', 'rock', 'rock-n-roll',\n",
       "       'rockabilly', 'romance', 'sad', 'salsa', 'samba', 'sertanejo',\n",
       "       'show-tunes', 'singer-songwriter', 'ska', 'sleep', 'songwriter',\n",
       "       'soul', 'spanish', 'study', 'swedish', 'synth-pop', 'tango',\n",
       "       'techno', 'trance', 'trip-hop', 'turkish', 'world-music'],\n",
       "      dtype=object)"
      ]
     },
     "execution_count": 9,
     "metadata": {},
     "output_type": "execute_result"
    }
   ],
   "source": [
    "df = pd.read_csv('training' + str(4) + \".csv\")\n",
    "\n",
    "df['track_genre'].unique()"
   ]
  },
  {
   "cell_type": "code",
   "execution_count": 10,
   "metadata": {},
   "outputs": [
    {
     "data": {
      "text/plain": [
       "2"
      ]
     },
     "execution_count": 10,
     "metadata": {},
     "output_type": "execute_result"
    }
   ],
   "source": [
    "114 % 4"
   ]
  },
  {
   "cell_type": "markdown",
   "metadata": {},
   "source": [
    "# Treinando Rede Neural"
   ]
  },
  {
   "cell_type": "code",
   "execution_count": 13,
   "metadata": {},
   "outputs": [
    {
     "name": "stdout",
     "output_type": "stream",
     "text": [
      "0           acoustic\n",
      "1           acoustic\n",
      "2           acoustic\n",
      "3           acoustic\n",
      "4           acoustic\n",
      "            ...     \n",
      "45595    world-music\n",
      "45596    world-music\n",
      "45597    world-music\n",
      "45598    world-music\n",
      "45599    world-music\n",
      "Name: track_genre, Length: 45600, dtype: object\n",
      "Epoch 1/50\n"
     ]
    },
    {
     "name": "stderr",
     "output_type": "stream",
     "text": [
      "/home/guilhermepacianotto/.local/lib/python3.10/site-packages/keras/src/layers/core/dense.py:87: UserWarning: Do not pass an `input_shape`/`input_dim` argument to a layer. When using Sequential models, prefer using an `Input(shape)` object as the first layer in the model instead.\n",
      "  super().__init__(activity_regularizer=activity_regularizer, **kwargs)\n"
     ]
    },
    {
     "name": "stdout",
     "output_type": "stream",
     "text": [
      "\u001b[1m1140/1140\u001b[0m \u001b[32m━━━━━━━━━━━━━━━━━━━━\u001b[0m\u001b[37m\u001b[0m \u001b[1m3s\u001b[0m 2ms/step - accuracy: 0.1296 - loss: 3.7716 - val_accuracy: 0.2395 - val_loss: 2.9921 - learning_rate: 0.0030\n",
      "Epoch 2/50\n",
      "\u001b[1m1140/1140\u001b[0m \u001b[32m━━━━━━━━━━━━━━━━━━━━\u001b[0m\u001b[37m\u001b[0m \u001b[1m3s\u001b[0m 3ms/step - accuracy: 0.2604 - loss: 2.8975 - val_accuracy: 0.3058 - val_loss: 2.7023 - learning_rate: 0.0030\n",
      "Epoch 3/50\n",
      "\u001b[1m1140/1140\u001b[0m \u001b[32m━━━━━━━━━━━━━━━━━━━━\u001b[0m\u001b[37m\u001b[0m \u001b[1m3s\u001b[0m 3ms/step - accuracy: 0.3054 - loss: 2.6467 - val_accuracy: 0.3209 - val_loss: 2.6162 - learning_rate: 0.0030\n",
      "Epoch 4/50\n",
      "\u001b[1m1140/1140\u001b[0m \u001b[32m━━━━━━━━━━━━━━━━━━━━\u001b[0m\u001b[37m\u001b[0m \u001b[1m2s\u001b[0m 2ms/step - accuracy: 0.3300 - loss: 2.5091 - val_accuracy: 0.3343 - val_loss: 2.5298 - learning_rate: 0.0030\n",
      "Epoch 5/50\n",
      "\u001b[1m1140/1140\u001b[0m \u001b[32m━━━━━━━━━━━━━━━━━━━━\u001b[0m\u001b[37m\u001b[0m \u001b[1m3s\u001b[0m 2ms/step - accuracy: 0.3454 - loss: 2.4316 - val_accuracy: 0.3346 - val_loss: 2.4880 - learning_rate: 0.0030\n",
      "Epoch 6/50\n",
      "\u001b[1m1140/1140\u001b[0m \u001b[32m━━━━━━━━━━━━━━━━━━━━\u001b[0m\u001b[37m\u001b[0m \u001b[1m3s\u001b[0m 3ms/step - accuracy: 0.3595 - loss: 2.3788 - val_accuracy: 0.3476 - val_loss: 2.4622 - learning_rate: 0.0030\n",
      "Epoch 7/50\n",
      "\u001b[1m1140/1140\u001b[0m \u001b[32m━━━━━━━━━━━━━━━━━━━━\u001b[0m\u001b[37m\u001b[0m \u001b[1m2s\u001b[0m 2ms/step - accuracy: 0.3687 - loss: 2.3313 - val_accuracy: 0.3545 - val_loss: 2.4397 - learning_rate: 0.0030\n",
      "Epoch 8/50\n",
      "\u001b[1m1140/1140\u001b[0m \u001b[32m━━━━━━━━━━━━━━━━━━━━\u001b[0m\u001b[37m\u001b[0m \u001b[1m3s\u001b[0m 3ms/step - accuracy: 0.3667 - loss: 2.3175 - val_accuracy: 0.3583 - val_loss: 2.4166 - learning_rate: 0.0030\n",
      "Epoch 9/50\n",
      "\u001b[1m1140/1140\u001b[0m \u001b[32m━━━━━━━━━━━━━━━━━━━━\u001b[0m\u001b[37m\u001b[0m \u001b[1m3s\u001b[0m 2ms/step - accuracy: 0.3726 - loss: 2.2833 - val_accuracy: 0.3622 - val_loss: 2.4215 - learning_rate: 0.0030\n",
      "Epoch 10/50\n",
      "\u001b[1m1140/1140\u001b[0m \u001b[32m━━━━━━━━━━━━━━━━━━━━\u001b[0m\u001b[37m\u001b[0m \u001b[1m2s\u001b[0m 2ms/step - accuracy: 0.3823 - loss: 2.2592 - val_accuracy: 0.3685 - val_loss: 2.3750 - learning_rate: 0.0030\n",
      "Epoch 11/50\n",
      "\u001b[1m1140/1140\u001b[0m \u001b[32m━━━━━━━━━━━━━━━━━━━━\u001b[0m\u001b[37m\u001b[0m \u001b[1m3s\u001b[0m 3ms/step - accuracy: 0.3853 - loss: 2.2251 - val_accuracy: 0.3599 - val_loss: 2.4066 - learning_rate: 0.0030\n",
      "Epoch 12/50\n",
      "\u001b[1m1140/1140\u001b[0m \u001b[32m━━━━━━━━━━━━━━━━━━━━\u001b[0m\u001b[37m\u001b[0m \u001b[1m3s\u001b[0m 2ms/step - accuracy: 0.3866 - loss: 2.2203 - val_accuracy: 0.3700 - val_loss: 2.4004 - learning_rate: 0.0030\n",
      "Epoch 13/50\n",
      "\u001b[1m1140/1140\u001b[0m \u001b[32m━━━━━━━━━━━━━━━━━━━━\u001b[0m\u001b[37m\u001b[0m \u001b[1m2s\u001b[0m 2ms/step - accuracy: 0.3949 - loss: 2.1921 - val_accuracy: 0.3644 - val_loss: 2.3822 - learning_rate: 0.0030\n",
      "Epoch 14/50\n",
      "\u001b[1m1140/1140\u001b[0m \u001b[32m━━━━━━━━━━━━━━━━━━━━\u001b[0m\u001b[37m\u001b[0m \u001b[1m3s\u001b[0m 3ms/step - accuracy: 0.3975 - loss: 2.1847 - val_accuracy: 0.3660 - val_loss: 2.3772 - learning_rate: 0.0030\n",
      "Epoch 15/50\n",
      "\u001b[1m1140/1140\u001b[0m \u001b[32m━━━━━━━━━━━━━━━━━━━━\u001b[0m\u001b[37m\u001b[0m \u001b[1m3s\u001b[0m 2ms/step - accuracy: 0.4001 - loss: 2.1642 - val_accuracy: 0.3736 - val_loss: 2.3613 - learning_rate: 0.0030\n",
      "Epoch 16/50\n",
      "\u001b[1m1140/1140\u001b[0m \u001b[32m━━━━━━━━━━━━━━━━━━━━\u001b[0m\u001b[37m\u001b[0m \u001b[1m2s\u001b[0m 2ms/step - accuracy: 0.3992 - loss: 2.1491 - val_accuracy: 0.3709 - val_loss: 2.3760 - learning_rate: 0.0030\n",
      "Epoch 17/50\n",
      "\u001b[1m1140/1140\u001b[0m \u001b[32m━━━━━━━━━━━━━━━━━━━━\u001b[0m\u001b[37m\u001b[0m \u001b[1m3s\u001b[0m 3ms/step - accuracy: 0.4086 - loss: 2.1415 - val_accuracy: 0.3709 - val_loss: 2.3731 - learning_rate: 0.0030\n",
      "Epoch 18/50\n",
      "\u001b[1m1140/1140\u001b[0m \u001b[32m━━━━━━━━━━━━━━━━━━━━\u001b[0m\u001b[37m\u001b[0m \u001b[1m2s\u001b[0m 2ms/step - accuracy: 0.4047 - loss: 2.1351 - val_accuracy: 0.3719 - val_loss: 2.3758 - learning_rate: 0.0030\n",
      "Epoch 19/50\n",
      "\u001b[1m1140/1140\u001b[0m \u001b[32m━━━━━━━━━━━━━━━━━━━━\u001b[0m\u001b[37m\u001b[0m \u001b[1m3s\u001b[0m 2ms/step - accuracy: 0.4075 - loss: 2.1165 - val_accuracy: 0.3711 - val_loss: 2.4058 - learning_rate: 0.0030\n",
      "Epoch 20/50\n",
      "\u001b[1m1140/1140\u001b[0m \u001b[32m━━━━━━━━━━━━━━━━━━━━\u001b[0m\u001b[37m\u001b[0m \u001b[1m3s\u001b[0m 3ms/step - accuracy: 0.4071 - loss: 2.1313 - val_accuracy: 0.3713 - val_loss: 2.3910 - learning_rate: 0.0030\n",
      "Epoch 21/50\n",
      "\u001b[1m1140/1140\u001b[0m \u001b[32m━━━━━━━━━━━━━━━━━━━━\u001b[0m\u001b[37m\u001b[0m \u001b[1m2s\u001b[0m 2ms/step - accuracy: 0.4104 - loss: 2.1183 - val_accuracy: 0.3758 - val_loss: 2.3954 - learning_rate: 0.0030\n",
      "Epoch 22/50\n",
      "\u001b[1m1140/1140\u001b[0m \u001b[32m━━━━━━━━━━━━━━━━━━━━\u001b[0m\u001b[37m\u001b[0m \u001b[1m3s\u001b[0m 2ms/step - accuracy: 0.4136 - loss: 2.0951 - val_accuracy: 0.3679 - val_loss: 2.3862 - learning_rate: 0.0030\n",
      "Epoch 23/50\n",
      "\u001b[1m1140/1140\u001b[0m \u001b[32m━━━━━━━━━━━━━━━━━━━━\u001b[0m\u001b[37m\u001b[0m \u001b[1m3s\u001b[0m 3ms/step - accuracy: 0.4160 - loss: 2.0918 - val_accuracy: 0.3771 - val_loss: 2.3656 - learning_rate: 0.0030\n",
      "Epoch 24/50\n",
      "\u001b[1m1140/1140\u001b[0m \u001b[32m━━━━━━━━━━━━━━━━━━━━\u001b[0m\u001b[37m\u001b[0m \u001b[1m2s\u001b[0m 2ms/step - accuracy: 0.4167 - loss: 2.0723 - val_accuracy: 0.3742 - val_loss: 2.3892 - learning_rate: 0.0030\n",
      "Epoch 25/50\n",
      "\u001b[1m1140/1140\u001b[0m \u001b[32m━━━━━━━━━━━━━━━━━━━━\u001b[0m\u001b[37m\u001b[0m \u001b[1m3s\u001b[0m 2ms/step - accuracy: 0.4191 - loss: 2.0679 - val_accuracy: 0.3736 - val_loss: 2.3905 - learning_rate: 0.0030\n",
      "Epoch 26/50\n",
      "\u001b[1m1140/1140\u001b[0m \u001b[32m━━━━━━━━━━━━━━━━━━━━\u001b[0m\u001b[37m\u001b[0m \u001b[1m3s\u001b[0m 3ms/step - accuracy: 0.4232 - loss: 2.0646 - val_accuracy: 0.3673 - val_loss: 2.4024 - learning_rate: 0.0030\n",
      "Epoch 27/50\n",
      "\u001b[1m1140/1140\u001b[0m \u001b[32m━━━━━━━━━━━━━━━━━━━━\u001b[0m\u001b[37m\u001b[0m \u001b[1m2s\u001b[0m 2ms/step - accuracy: 0.4210 - loss: 2.0730 - val_accuracy: 0.3708 - val_loss: 2.4134 - learning_rate: 0.0030\n",
      "Epoch 28/50\n",
      "\u001b[1m1140/1140\u001b[0m \u001b[32m━━━━━━━━━━━━━━━━━━━━\u001b[0m\u001b[37m\u001b[0m \u001b[1m3s\u001b[0m 2ms/step - accuracy: 0.4241 - loss: 2.0563 - val_accuracy: 0.3792 - val_loss: 2.3747 - learning_rate: 0.0030\n",
      "Epoch 29/50\n",
      "\u001b[1m1136/1140\u001b[0m \u001b[32m━━━━━━━━━━━━━━━━━━━\u001b[0m\u001b[37m━\u001b[0m \u001b[1m0s\u001b[0m 2ms/step - accuracy: 0.4228 - loss: 2.0540\n",
      "Epoch 29: ReduceLROnPlateau reducing learning rate to 0.002.\n",
      "\u001b[1m1140/1140\u001b[0m \u001b[32m━━━━━━━━━━━━━━━━━━━━\u001b[0m\u001b[37m\u001b[0m \u001b[1m3s\u001b[0m 3ms/step - accuracy: 0.4228 - loss: 2.0541 - val_accuracy: 0.3750 - val_loss: 2.3962 - learning_rate: 0.0030\n",
      "Epoch 30/50\n",
      "\u001b[1m1140/1140\u001b[0m \u001b[32m━━━━━━━━━━━━━━━━━━━━\u001b[0m\u001b[37m\u001b[0m \u001b[1m4s\u001b[0m 2ms/step - accuracy: 0.4463 - loss: 1.9672 - val_accuracy: 0.3859 - val_loss: 2.3708 - learning_rate: 0.0020\n",
      "Epoch 31/50\n",
      "\u001b[1m1140/1140\u001b[0m \u001b[32m━━━━━━━━━━━━━━━━━━━━\u001b[0m\u001b[37m\u001b[0m \u001b[1m3s\u001b[0m 2ms/step - accuracy: 0.4502 - loss: 1.9478 - val_accuracy: 0.3831 - val_loss: 2.3697 - learning_rate: 0.0020\n",
      "Epoch 32/50\n",
      "\u001b[1m1140/1140\u001b[0m \u001b[32m━━━━━━━━━━━━━━━━━━━━\u001b[0m\u001b[37m\u001b[0m \u001b[1m3s\u001b[0m 3ms/step - accuracy: 0.4533 - loss: 1.9305 - val_accuracy: 0.3874 - val_loss: 2.3856 - learning_rate: 0.0020\n",
      "Epoch 33/50\n",
      "\u001b[1m1140/1140\u001b[0m \u001b[32m━━━━━━━━━━━━━━━━━━━━\u001b[0m\u001b[37m\u001b[0m \u001b[1m2s\u001b[0m 2ms/step - accuracy: 0.4526 - loss: 1.9354 - val_accuracy: 0.3852 - val_loss: 2.3704 - learning_rate: 0.0020\n",
      "Epoch 34/50\n",
      "\u001b[1m1140/1140\u001b[0m \u001b[32m━━━━━━━━━━━━━━━━━━━━\u001b[0m\u001b[37m\u001b[0m \u001b[1m3s\u001b[0m 2ms/step - accuracy: 0.4555 - loss: 1.9343 - val_accuracy: 0.3873 - val_loss: 2.3809 - learning_rate: 0.0020\n",
      "Epoch 35/50\n",
      "\u001b[1m1140/1140\u001b[0m \u001b[32m━━━━━━━━━━━━━━━━━━━━\u001b[0m\u001b[37m\u001b[0m \u001b[1m3s\u001b[0m 3ms/step - accuracy: 0.4549 - loss: 1.9265 - val_accuracy: 0.3810 - val_loss: 2.4016 - learning_rate: 0.0020\n",
      "Epoch 36/50\n",
      "\u001b[1m1140/1140\u001b[0m \u001b[32m━━━━━━━━━━━━━━━━━━━━\u001b[0m\u001b[37m\u001b[0m \u001b[1m2s\u001b[0m 2ms/step - accuracy: 0.4586 - loss: 1.9199 - val_accuracy: 0.3827 - val_loss: 2.3948 - learning_rate: 0.0020\n",
      "Epoch 37/50\n",
      "\u001b[1m1140/1140\u001b[0m \u001b[32m━━━━━━━━━━━━━━━━━━━━\u001b[0m\u001b[37m\u001b[0m \u001b[1m3s\u001b[0m 2ms/step - accuracy: 0.4581 - loss: 1.9107 - val_accuracy: 0.3818 - val_loss: 2.4094 - learning_rate: 0.0020\n",
      "Epoch 38/50\n",
      "\u001b[1m1140/1140\u001b[0m \u001b[32m━━━━━━━━━━━━━━━━━━━━\u001b[0m\u001b[37m\u001b[0m \u001b[1m4s\u001b[0m 3ms/step - accuracy: 0.4579 - loss: 1.9103 - val_accuracy: 0.3817 - val_loss: 2.4124 - learning_rate: 0.0020\n",
      "Epoch 39/50\n",
      "\u001b[1m1140/1140\u001b[0m \u001b[32m━━━━━━━━━━━━━━━━━━━━\u001b[0m\u001b[37m\u001b[0m \u001b[1m4s\u001b[0m 3ms/step - accuracy: 0.4561 - loss: 1.9094 - val_accuracy: 0.3844 - val_loss: 2.4014 - learning_rate: 0.0020\n",
      "Epoch 40/50\n",
      "\u001b[1m1140/1140\u001b[0m \u001b[32m━━━━━━━━━━━━━━━━━━━━\u001b[0m\u001b[37m\u001b[0m \u001b[1m4s\u001b[0m 4ms/step - accuracy: 0.4639 - loss: 1.8895 - val_accuracy: 0.3836 - val_loss: 2.4127 - learning_rate: 0.0020\n",
      "Epoch 41/50\n",
      "\u001b[1m1140/1140\u001b[0m \u001b[32m━━━━━━━━━━━━━━━━━━━━\u001b[0m\u001b[37m\u001b[0m \u001b[1m5s\u001b[0m 5ms/step - accuracy: 0.4616 - loss: 1.8842 - val_accuracy: 0.3841 - val_loss: 2.4042 - learning_rate: 0.0020\n",
      "Epoch 42/50\n",
      "\u001b[1m1140/1140\u001b[0m \u001b[32m━━━━━━━━━━━━━━━━━━━━\u001b[0m\u001b[37m\u001b[0m \u001b[1m4s\u001b[0m 4ms/step - accuracy: 0.4650 - loss: 1.8852 - val_accuracy: 0.3842 - val_loss: 2.4398 - learning_rate: 0.0020\n",
      "Epoch 43/50\n",
      "\u001b[1m1140/1140\u001b[0m \u001b[32m━━━━━━━━━━━━━━━━━━━━\u001b[0m\u001b[37m\u001b[0m \u001b[1m5s\u001b[0m 5ms/step - accuracy: 0.4592 - loss: 1.8992 - val_accuracy: 0.3894 - val_loss: 2.4185 - learning_rate: 0.0020\n",
      "Epoch 44/50\n",
      "\u001b[1m1140/1140\u001b[0m \u001b[32m━━━━━━━━━━━━━━━━━━━━\u001b[0m\u001b[37m\u001b[0m \u001b[1m5s\u001b[0m 4ms/step - accuracy: 0.4647 - loss: 1.8833 - val_accuracy: 0.3836 - val_loss: 2.4341 - learning_rate: 0.0020\n",
      "Epoch 45/50\n",
      "\u001b[1m1140/1140\u001b[0m \u001b[32m━━━━━━━━━━━━━━━━━━━━\u001b[0m\u001b[37m\u001b[0m \u001b[1m6s\u001b[0m 5ms/step - accuracy: 0.4598 - loss: 1.8920 - val_accuracy: 0.3848 - val_loss: 2.4238 - learning_rate: 0.0020\n",
      "Epoch 46/50\n",
      "\u001b[1m1140/1140\u001b[0m \u001b[32m━━━━━━━━━━━━━━━━━━━━\u001b[0m\u001b[37m\u001b[0m \u001b[1m6s\u001b[0m 5ms/step - accuracy: 0.4660 - loss: 1.8716 - val_accuracy: 0.3861 - val_loss: 2.4395 - learning_rate: 0.0020\n",
      "Epoch 47/50\n",
      "\u001b[1m1140/1140\u001b[0m \u001b[32m━━━━━━━━━━━━━━━━━━━━\u001b[0m\u001b[37m\u001b[0m \u001b[1m6s\u001b[0m 5ms/step - accuracy: 0.4624 - loss: 1.8831 - val_accuracy: 0.3849 - val_loss: 2.4595 - learning_rate: 0.0020\n",
      "Epoch 48/50\n",
      "\u001b[1m1140/1140\u001b[0m \u001b[32m━━━━━━━━━━━━━━━━━━━━\u001b[0m\u001b[37m\u001b[0m \u001b[1m7s\u001b[0m 6ms/step - accuracy: 0.4643 - loss: 1.8928 - val_accuracy: 0.3822 - val_loss: 2.4337 - learning_rate: 0.0020\n",
      "Epoch 49/50\n",
      "\u001b[1m1140/1140\u001b[0m \u001b[32m━━━━━━━━━━━━━━━━━━━━\u001b[0m\u001b[37m\u001b[0m \u001b[1m15s\u001b[0m 10ms/step - accuracy: 0.4634 - loss: 1.8882 - val_accuracy: 0.3871 - val_loss: 2.4522 - learning_rate: 0.0020\n",
      "Epoch 50/50\n",
      "\u001b[1m1140/1140\u001b[0m \u001b[32m━━━━━━━━━━━━━━━━━━━━\u001b[0m\u001b[37m\u001b[0m \u001b[1m2s\u001b[0m 2ms/step - accuracy: 0.4707 - loss: 1.8726 - val_accuracy: 0.3873 - val_loss: 2.4546 - learning_rate: 0.0020\n",
      "\u001b[1m285/285\u001b[0m \u001b[32m━━━━━━━━━━━━━━━━━━━━\u001b[0m\u001b[37m\u001b[0m \u001b[1m1s\u001b[0m 3ms/step - accuracy: 0.3847 - loss: 2.4394\n",
      "Test Accuracy: 38.73%\n"
     ]
    }
   ],
   "source": [
    "def neuralTraining(index, optimize):\n",
    "    # Load the dataset\n",
    "    df = pd.read_csv('training' + str(index) + \".csv\")\n",
    "\n",
    "    # Select features and labels\n",
    "    features = ['popularity', 'duration_ms', 'danceability', 'energy', 'key', 'loudness', 'mode', 'speechiness', 'acousticness', 'instrumentalness', 'liveness', 'valence', 'tempo', 'time_signature']\n",
    "    # features = ['duration_ms', 'danceability', 'energy', 'key', 'loudness', 'mode', 'speechiness', 'acousticness', 'instrumentalness', 'liveness', 'valence', 'tempo', 'time_signature']\n",
    "    X = df[features].values\n",
    "    y = df['track_genre']\n",
    "\n",
    "    print(y)\n",
    "\n",
    "    training_labels = y\n",
    "\n",
    "    # Encode the labels\n",
    "    label_encoder = LabelEncoder()\n",
    "    y = label_encoder.fit_transform(y)\n",
    "\n",
    "    X_train, X_test, y_train, y_test = train_test_split(X, y, test_size=0.2, random_state=42, stratify=y)\n",
    "\n",
    "    X_train_copy = X_train\n",
    "\n",
    "    # Feature Scaling\n",
    "    scaler = StandardScaler()\n",
    "    X_train = scaler.fit_transform(X_train)\n",
    "    X_test = scaler.transform(X_test)\n",
    "    len(y_train)\n",
    "\n",
    "\n",
    "    # Reduzir LR quando acurácia não melhora\n",
    "    reduce_lr_callback = callbacks.ReduceLROnPlateau(\n",
    "        \"accuracy\",\n",
    "        factor = 0.5,\n",
    "        patience=3,\n",
    "        verbose=1,\n",
    "        min_delta=0.002,\n",
    "        min_lr=0.002,\n",
    "    )\n",
    "    early_stop_callback = callbacks.EarlyStopping(\n",
    "        \"accuracy\",\n",
    "        patience=7,\n",
    "        verbose=1,\n",
    "    )\n",
    "    opt = optimizers.Adam(\n",
    "        learning_rate=0.003\n",
    "    )\n",
    "\n",
    "    # Convert labels to categorical\n",
    "    y_train = to_categorical(y_train, num_classes=114)\n",
    "    y_test = to_categorical(y_test, num_classes=114)\n",
    "\n",
    "    print\n",
    "\n",
    "    # Define the model\n",
    "    model = sequential()\n",
    "    model.add(dense(128, input_dim=X_train.shape[1], activation='relu'))\n",
    "    model.add(dense(64, activation='relu'))\n",
    "    model.add(dense(32, activation='relu'))\n",
    "    model.add(dense(114, activation='softmax'))\n",
    "\n",
    "    # Compile the model\n",
    "    if(optimize == True):\n",
    "        model.compile(loss='categorical_crossentropy', optimizer=opt, metrics=['accuracy'])\n",
    "    else:\n",
    "        model.compile(loss='categorical_crossentropy', optimizer='adam', metrics=['accuracy'])\n",
    "\n",
    "    # Train the model\n",
    "    if(optimize == True):\n",
    "        model.fit(X_train, y_train, epochs=50, batch_size=32, validation_data=(X_test, y_test), callbacks=[reduce_lr_callback, early_stop_callback])\n",
    "    else:\n",
    "        model.fit(X_train, y_train, epochs=50, batch_size=32, validation_data=(X_test, y_test))\n",
    "\n",
    "    # Evaluate the model\n",
    "    loss, accuracy = model.evaluate(X_test, y_test)\n",
    "    print(f'Test Accuracy: {accuracy*100:.2f}%')\n",
    "    return model, df[features].values, training_labels\n",
    "\n",
    "model, X_train, training_labels = neuralTraining(4, True)"
   ]
  },
  {
   "cell_type": "code",
   "execution_count": 14,
   "metadata": {},
   "outputs": [
    {
     "name": "stdout",
     "output_type": "stream",
     "text": [
      "Array saved to X_train.csv\n",
      "Array saved to training_labels.csv\n"
     ]
    }
   ],
   "source": [
    "model.save(\"song_classifier.keras\")\n",
    "\n",
    "def ndarray_to_csv(array, csv_file_path):\n",
    "    \"\"\"\n",
    "    Transform a NumPy ndarray to a Pandas DataFrame and save it to a CSV file.\n",
    "\n",
    "    Parameters:\n",
    "    array (np.ndarray): The input ndarray.\n",
    "    csv_file_path (str): The file path to save the CSV.\n",
    "    \"\"\"\n",
    "    # Convert ndarray to DataFrame\n",
    "    df = pd.DataFrame(array)\n",
    "    \n",
    "    # Save DataFrame to CSV\n",
    "    df.to_csv(csv_file_path, index=False)\n",
    "    print(f\"Array saved to {csv_file_path}\")\n",
    "\n",
    "ndarray_to_csv(X_train, \"X_train.csv\")\n",
    "ndarray_to_csv(training_labels, \"training_labels.csv\")"
   ]
  },
  {
   "cell_type": "markdown",
   "metadata": {},
   "source": [
    "# Medindo Precisão por Gênero"
   ]
  },
  {
   "cell_type": "code",
   "execution_count": null,
   "metadata": {},
   "outputs": [],
   "source": []
  },
  {
   "cell_type": "markdown",
   "metadata": {},
   "source": [
    "# Treinando uma decision Tree"
   ]
  },
  {
   "cell_type": "code",
   "execution_count": 19,
   "metadata": {},
   "outputs": [
    {
     "name": "stdout",
     "output_type": "stream",
     "text": [
      "0           acoustic\n",
      "1           acoustic\n",
      "2           acoustic\n",
      "3           acoustic\n",
      "4           acoustic\n",
      "            ...     \n",
      "45595    world-music\n",
      "45596    world-music\n",
      "45597    world-music\n",
      "45598    world-music\n",
      "45599    world-music\n",
      "Name: track_genre, Length: 45600, dtype: object\n",
      "The accuracy of the Decision Tree is 0.312\n"
     ]
    }
   ],
   "source": [
    "from sklearn.tree import DecisionTreeClassifier, plot_tree\n",
    "from sklearn import metrics\n",
    "\n",
    "def decisionTreeTraining(index):\n",
    "    df = pd.read_csv('training' + str(index) + \".csv\")\n",
    "\n",
    "    # Select features and labels\n",
    "    features = ['popularity', 'duration_ms', 'danceability', 'energy', 'key', 'loudness', 'mode', 'speechiness', 'acousticness', 'instrumentalness', 'liveness', 'valence', 'tempo', 'time_signature']\n",
    "    # features = ['duration_ms', 'danceability', 'energy', 'key', 'loudness', 'mode', 'speechiness', 'acousticness', 'instrumentalness', 'liveness', 'valence', 'tempo', 'time_signature']\n",
    "    X = df[features].values\n",
    "    y = df['track_genre']\n",
    "\n",
    "    print(y)\n",
    "\n",
    "    # Encode the labels\n",
    "    label_encoder = LabelEncoder()\n",
    "    y = label_encoder.fit_transform(y)\n",
    "\n",
    "    X_train, X_test, y_train, y_test = train_test_split(X, y, test_size=0.2, random_state=42, stratify=y)\n",
    "\n",
    "    # Feature Scaling\n",
    "    scaler = StandardScaler()\n",
    "    X_train = scaler.fit_transform(X_train)\n",
    "    X_test = scaler.transform(X_test)\n",
    "    # len(y_train)\n",
    "\n",
    "    model_tree = DecisionTreeClassifier(max_depth=12, random_state=2)\n",
    "    model_tree.fit(X_train, y_train)\n",
    "    prediction = model_tree.predict(X_test)\n",
    "    print('The accuracy of the Decision Tree is',\"{:.3f}\".format(metrics.accuracy_score(prediction,y_test)))\n",
    "\n",
    "decisionTreeTraining(4)"
   ]
  },
  {
   "cell_type": "markdown",
   "metadata": {},
   "source": [
    "# Treinando Com KNN"
   ]
  },
  {
   "cell_type": "code",
   "execution_count": 20,
   "metadata": {},
   "outputs": [
    {
     "name": "stdout",
     "output_type": "stream",
     "text": [
      "0           acoustic\n",
      "1           acoustic\n",
      "2           acoustic\n",
      "3           acoustic\n",
      "4           acoustic\n",
      "            ...     \n",
      "45595    world-music\n",
      "45596    world-music\n",
      "45597    world-music\n",
      "45598    world-music\n",
      "45599    world-music\n",
      "Name: track_genre, Length: 45600, dtype: object\n",
      "The accuracy of the 5NN Classifier is 0.203\n"
     ]
    }
   ],
   "source": [
    "from sklearn.neighbors import KNeighborsClassifier\n",
    "\n",
    "def knnTraining(index):\n",
    "    df = pd.read_csv('training' + str(index) + \".csv\")\n",
    "\n",
    "    # Select features and labels\n",
    "    features = ['popularity', 'duration_ms', 'danceability', 'energy', 'key', 'loudness', 'mode', 'speechiness', 'acousticness', 'instrumentalness', 'liveness', 'valence', 'tempo', 'time_signature']\n",
    "    # features = ['duration_ms', 'danceability', 'energy', 'key', 'loudness', 'mode', 'speechiness', 'acousticness', 'instrumentalness', 'liveness', 'valence', 'tempo', 'time_signature']\n",
    "    X = df[features].values\n",
    "    y = df['track_genre']\n",
    "\n",
    "    print(y)\n",
    "\n",
    "    # Encode the labels\n",
    "    label_encoder = LabelEncoder()\n",
    "    y = label_encoder.fit_transform(y)\n",
    "\n",
    "    X_train, X_test, y_train, y_test = train_test_split(X, y, test_size=0.2, random_state=42, stratify=y)\n",
    "\n",
    "    # Feature Scaling\n",
    "    scaler = StandardScaler()\n",
    "    X_train = scaler.fit_transform(X_train)\n",
    "    X_test = scaler.transform(X_test)\n",
    "\n",
    "    mod_5nn=KNeighborsClassifier(n_neighbors=10, algorithm=\"ball_tree\")\n",
    "    mod_5nn.fit(X_train,y_train)\n",
    "    prediction=mod_5nn.predict(X_test)\n",
    "    print('The accuracy of the 5NN Classifier is',\"{:.3f}\".format(metrics.accuracy_score(prediction,y_test)))\n",
    "\n",
    "knnTraining(4)"
   ]
  },
  {
   "cell_type": "markdown",
   "metadata": {},
   "source": [
    "# Guassian Naive Bayes Classifier"
   ]
  },
  {
   "cell_type": "code",
   "execution_count": 21,
   "metadata": {},
   "outputs": [
    {
     "name": "stdout",
     "output_type": "stream",
     "text": [
      "0           acoustic\n",
      "1           acoustic\n",
      "2           acoustic\n",
      "3           acoustic\n",
      "4           acoustic\n",
      "            ...     \n",
      "45595    world-music\n",
      "45596    world-music\n",
      "45597    world-music\n",
      "45598    world-music\n",
      "45599    world-music\n",
      "Name: track_genre, Length: 45600, dtype: object\n",
      "The accuracy of the Guassian Naive Bayes Classifier on test data is 0.198\n"
     ]
    }
   ],
   "source": [
    "from sklearn.naive_bayes import GaussianNB\n",
    "\n",
    "def gaussianTraining(index):\n",
    "    df = pd.read_csv('training' + str(index) + \".csv\")\n",
    "\n",
    "    # Select features and labels\n",
    "    features = ['popularity', 'duration_ms', 'danceability', 'energy', 'key', 'loudness', 'mode', 'speechiness', 'acousticness', 'instrumentalness', 'liveness', 'valence', 'tempo', 'time_signature']\n",
    "    # features = ['duration_ms', 'danceability', 'energy', 'key', 'loudness', 'mode', 'speechiness', 'acousticness', 'instrumentalness', 'liveness', 'valence', 'tempo', 'time_signature']\n",
    "    X = df[features].values\n",
    "    y = df['track_genre']\n",
    "\n",
    "    print(y)\n",
    "\n",
    "    # Encode the labels\n",
    "    label_encoder = LabelEncoder()\n",
    "    y = label_encoder.fit_transform(y)\n",
    "\n",
    "    X_train, X_test, y_train, y_test = train_test_split(X, y, test_size=0.2, random_state=42, stratify=y)\n",
    "\n",
    "    # Feature Scaling\n",
    "    scaler = StandardScaler()\n",
    "    X_train = scaler.fit_transform(X_train)\n",
    "    X_test = scaler.transform(X_test)\n",
    "\n",
    "    mod_gnb_all = GaussianNB()\n",
    "    y_pred = mod_gnb_all.fit(X_train, y_train).predict(X_test)\n",
    "    print('The accuracy of the Guassian Naive Bayes Classifier on test data is',\"{:.3f}\".format(metrics.accuracy_score(y_pred,y_test)))\n",
    "\n",
    "gaussianTraining(4)"
   ]
  },
  {
   "cell_type": "markdown",
   "metadata": {},
   "source": [
    "# LDA"
   ]
  },
  {
   "cell_type": "code",
   "execution_count": 22,
   "metadata": {},
   "outputs": [
    {
     "name": "stdout",
     "output_type": "stream",
     "text": [
      "0           acoustic\n",
      "1           acoustic\n",
      "2           acoustic\n",
      "3           acoustic\n",
      "4           acoustic\n",
      "            ...     \n",
      "45595    world-music\n",
      "45596    world-music\n",
      "45597    world-music\n",
      "45598    world-music\n",
      "45599    world-music\n",
      "Name: track_genre, Length: 45600, dtype: object\n",
      "The accuracy of the LDA Classifier on test data is 0.184\n"
     ]
    }
   ],
   "source": [
    "from sklearn.discriminant_analysis import LinearDiscriminantAnalysis, QuadraticDiscriminantAnalysis\n",
    "\n",
    "def ldaTraining(index):\n",
    "    df = pd.read_csv('training' + str(index) + \".csv\")\n",
    "\n",
    "    # Select features and labels\n",
    "    features = ['popularity', 'duration_ms', 'danceability', 'energy', 'key', 'loudness', 'mode', 'speechiness', 'acousticness', 'instrumentalness', 'liveness', 'valence', 'tempo', 'time_signature']\n",
    "    # features = ['duration_ms', 'danceability', 'energy', 'key', 'loudness', 'mode', 'speechiness', 'acousticness', 'instrumentalness', 'liveness', 'valence', 'tempo', 'time_signature']\n",
    "    X = df[features].values\n",
    "    y = df['track_genre']\n",
    "\n",
    "    print(y)\n",
    "\n",
    "    # Encode the labels\n",
    "    label_encoder = LabelEncoder()\n",
    "    y = label_encoder.fit_transform(y)\n",
    "\n",
    "    X_train, X_test, y_train, y_test = train_test_split(X, y, test_size=0.2, random_state=42, stratify=y)\n",
    "\n",
    "    # Feature Scaling\n",
    "    scaler = StandardScaler()\n",
    "    X_train = scaler.fit_transform(X_train)\n",
    "    X_test = scaler.transform(X_test)\n",
    "\n",
    "    mod_lda_all = LinearDiscriminantAnalysis(solver=\"svd\", shrinkage=None)\n",
    "    y_pred = mod_lda_all.fit(X_train, y_train).predict(X_test)\n",
    "    print('The accuracy of the LDA Classifier on test data is',\"{:.3f}\".format(metrics.accuracy_score(y_pred,y_test)))\n",
    "\n",
    "ldaTraining(4)"
   ]
  },
  {
   "cell_type": "markdown",
   "metadata": {},
   "source": [
    "Pesquisar: https://scikit-learn.org/stable/modules/generated/sklearn.ensemble.RandomForestClassifier.html#sklearn.ensemble.RandomForestClassifier"
   ]
  }
 ],
 "metadata": {
  "kernelspec": {
   "display_name": "Python 3",
   "language": "python",
   "name": "python3"
  },
  "language_info": {
   "codemirror_mode": {
    "name": "ipython",
    "version": 3
   },
   "file_extension": ".py",
   "mimetype": "text/x-python",
   "name": "python",
   "nbconvert_exporter": "python",
   "pygments_lexer": "ipython3",
   "version": "3.10.12"
  }
 },
 "nbformat": 4,
 "nbformat_minor": 2
}
