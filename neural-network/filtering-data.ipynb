{
 "cells": [
  {
   "cell_type": "code",
   "execution_count": 6,
   "metadata": {},
   "outputs": [],
   "source": [
    "import pandas as pd\n",
    "\n"
   ]
  },
  {
   "cell_type": "code",
   "execution_count": 7,
   "metadata": {},
   "outputs": [],
   "source": [
    "df = pd.read_csv('../dataset.csv')\n",
    "\n",
    "def filterGenre(df, genre):\n",
    "    return df[df['track_genre'].isin([genre])].iloc[::-1].reset_index(drop=True)\n",
    "\n",
    "def filterPercentage(df, percentage):\n",
    "    num_rows = int((len(df) * (percentage)) // 1)\n",
    "    return df.iloc[:num_rows]\n"
   ]
  },
  {
   "cell_type": "code",
   "execution_count": 9,
   "metadata": {},
   "outputs": [
    {
     "name": "stdout",
     "output_type": "stream",
     "text": [
      "filtering: 1\n",
      "filtering: 2\n",
      "filtering: 3\n",
      "filtering: 4\n",
      "filtering: 5\n",
      "filtering: 6\n",
      "filtering: 7\n",
      "filtering: 8\n",
      "filtering: 9\n",
      "filtering: 10\n"
     ]
    }
   ],
   "source": [
    "def filterAll(percentage):\n",
    "    print(\"filtering: \" + str(percentage))\n",
    "\n",
    "    per = percentage / 10\n",
    "\n",
    "    genres = pd.read_csv('../genres.csv')\n",
    "\n",
    "    result = pd.DataFrame()\n",
    "\n",
    "    for index, row in genres.iterrows():\n",
    "        genreFilter = filterGenre(df, row.track_genre)\n",
    "        portion = filterPercentage(genreFilter, per)\n",
    "        result = pd.concat([result, portion], axis=0).reset_index(drop=True)\n",
    "\n",
    "\n",
    "    result.to_csv(\"training\" + str(percentage) + \".csv\", index=False)\n",
    "\n",
    "for i in range(10):\n",
    "    filterAll(i + 1)"
   ]
  },
  {
   "cell_type": "code",
   "execution_count": 3,
   "metadata": {},
   "outputs": [
    {
     "name": "stdout",
     "output_type": "stream",
     "text": [
      "Mean: [4. 5. 6.]\n",
      "Standard Deviation: [2.44948974 2.44948974 2.44948974]\n",
      "Scaled Data:\n",
      " [[-1.22474487 -1.22474487 -1.22474487]\n",
      " [ 0.          0.          0.        ]\n",
      " [ 1.22474487  1.22474487  1.22474487]]\n"
     ]
    }
   ],
   "source": [
    "from sklearn.preprocessing import StandardScaler\n",
    "import numpy as np\n",
    "\n",
    "# Sample data\n",
    "data = np.array([[1, 2, 3], [4, 5, 6], [7, 8, 9]])\n",
    "\n",
    "# Initialize the StandardScaler\n",
    "scaler = StandardScaler()\n",
    "\n",
    "# Fit the scaler to the data (calculate mean and std)\n",
    "scaler.fit(data)\n",
    "\n",
    "# The scaler now contains the mean and std of the data\n",
    "print(\"Mean:\", scaler.mean_)\n",
    "print(\"Standard Deviation:\", scaler.scale_)\n",
    "\n",
    "scaled_data = scaler.transform(data)\n",
    "print(\"Scaled Data:\\n\", scaled_data)\n"
   ]
  }
 ],
 "metadata": {
  "kernelspec": {
   "display_name": "Python 3",
   "language": "python",
   "name": "python3"
  },
  "language_info": {
   "codemirror_mode": {
    "name": "ipython",
    "version": 3
   },
   "file_extension": ".py",
   "mimetype": "text/x-python",
   "name": "python",
   "nbconvert_exporter": "python",
   "pygments_lexer": "ipython3",
   "version": "3.10.12"
  }
 },
 "nbformat": 4,
 "nbformat_minor": 2
}
